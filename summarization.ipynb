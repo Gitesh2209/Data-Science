{
  "nbformat": 4,
  "nbformat_minor": 0,
  "metadata": {
    "colab": {
      "provenance": [],
      "toc_visible": true
    },
    "kernelspec": {
      "name": "python3",
      "display_name": "Python 3"
    },
    "language_info": {
      "name": "python"
    }
  },
  "cells": [
    {
      "cell_type": "markdown",
      "metadata": {
        "id": "fcU3meX9e0b5"
      },
      "source": [
        "# Install Transformers"
      ]
    },
    {
      "cell_type": "code",
      "metadata": {
        "colab": {
          "base_uri": "https://localhost:8080/",
          "height": 468
        },
        "id": "JUgW5Gy10DxC",
        "outputId": "469cd684-1c78-4b9d-b498-8fe3cee57013"
      },
      "source": [
        "# install transformers with sentencepiece\n",
        "!pip install transformers[sentencepiece]"
      ],
      "execution_count": 32,
      "outputs": [
        {
          "output_type": "display_data",
          "data": {
            "text/plain": [
              "<IPython.core.display.HTML object>"
            ],
            "text/html": [
              "\n",
              "  <style>\n",
              "    pre {\n",
              "        white-space: pre-wrap;\n",
              "    }\n",
              "  </style>\n",
              "  "
            ]
          },
          "metadata": {}
        },
        {
          "output_type": "stream",
          "name": "stdout",
          "text": [
            "Requirement already satisfied: transformers[sentencepiece] in /usr/local/lib/python3.10/dist-packages (4.35.2)\n",
            "Requirement already satisfied: filelock in /usr/local/lib/python3.10/dist-packages (from transformers[sentencepiece]) (3.13.1)\n",
            "Requirement already satisfied: huggingface-hub<1.0,>=0.16.4 in /usr/local/lib/python3.10/dist-packages (from transformers[sentencepiece]) (0.19.4)\n",
            "Requirement already satisfied: numpy>=1.17 in /usr/local/lib/python3.10/dist-packages (from transformers[sentencepiece]) (1.23.5)\n",
            "Requirement already satisfied: packaging>=20.0 in /usr/local/lib/python3.10/dist-packages (from transformers[sentencepiece]) (23.2)\n",
            "Requirement already satisfied: pyyaml>=5.1 in /usr/local/lib/python3.10/dist-packages (from transformers[sentencepiece]) (6.0.1)\n",
            "Requirement already satisfied: regex!=2019.12.17 in /usr/local/lib/python3.10/dist-packages (from transformers[sentencepiece]) (2023.6.3)\n",
            "Requirement already satisfied: requests in /usr/local/lib/python3.10/dist-packages (from transformers[sentencepiece]) (2.31.0)\n",
            "Requirement already satisfied: tokenizers<0.19,>=0.14 in /usr/local/lib/python3.10/dist-packages (from transformers[sentencepiece]) (0.15.0)\n",
            "Requirement already satisfied: safetensors>=0.3.1 in /usr/local/lib/python3.10/dist-packages (from transformers[sentencepiece]) (0.4.1)\n",
            "Requirement already satisfied: tqdm>=4.27 in /usr/local/lib/python3.10/dist-packages (from transformers[sentencepiece]) (4.66.1)\n",
            "Requirement already satisfied: sentencepiece!=0.1.92,>=0.1.91 in /usr/local/lib/python3.10/dist-packages (from transformers[sentencepiece]) (0.1.99)\n",
            "Requirement already satisfied: protobuf in /usr/local/lib/python3.10/dist-packages (from transformers[sentencepiece]) (3.20.3)\n",
            "Requirement already satisfied: fsspec>=2023.5.0 in /usr/local/lib/python3.10/dist-packages (from huggingface-hub<1.0,>=0.16.4->transformers[sentencepiece]) (2023.6.0)\n",
            "Requirement already satisfied: typing-extensions>=3.7.4.3 in /usr/local/lib/python3.10/dist-packages (from huggingface-hub<1.0,>=0.16.4->transformers[sentencepiece]) (4.5.0)\n",
            "Requirement already satisfied: charset-normalizer<4,>=2 in /usr/local/lib/python3.10/dist-packages (from requests->transformers[sentencepiece]) (3.3.2)\n",
            "Requirement already satisfied: idna<4,>=2.5 in /usr/local/lib/python3.10/dist-packages (from requests->transformers[sentencepiece]) (3.6)\n",
            "Requirement already satisfied: urllib3<3,>=1.21.1 in /usr/local/lib/python3.10/dist-packages (from requests->transformers[sentencepiece]) (2.0.7)\n",
            "Requirement already satisfied: certifi>=2017.4.17 in /usr/local/lib/python3.10/dist-packages (from requests->transformers[sentencepiece]) (2023.11.17)\n"
          ]
        }
      ]
    },
    {
      "cell_type": "markdown",
      "metadata": {
        "id": "2jeHwHDYe_5i"
      },
      "source": [
        "# Read input file\n"
      ]
    },
    {
      "cell_type": "code",
      "source": [
        "pip install PyPDF2"
      ],
      "metadata": {
        "colab": {
          "base_uri": "https://localhost:8080/",
          "height": 34
        },
        "id": "S_bnQ7y9dyKi",
        "outputId": "f2c8a341-ed2a-4b19-fd38-d33b26485dbf"
      },
      "execution_count": 33,
      "outputs": [
        {
          "output_type": "display_data",
          "data": {
            "text/plain": [
              "<IPython.core.display.HTML object>"
            ],
            "text/html": [
              "\n",
              "  <style>\n",
              "    pre {\n",
              "        white-space: pre-wrap;\n",
              "    }\n",
              "  </style>\n",
              "  "
            ]
          },
          "metadata": {}
        },
        {
          "output_type": "stream",
          "name": "stdout",
          "text": [
            "Requirement already satisfied: PyPDF2 in /usr/local/lib/python3.10/dist-packages (3.0.1)\n"
          ]
        }
      ]
    },
    {
      "cell_type": "code",
      "source": [
        "from PyPDF2 import PdfReader"
      ],
      "metadata": {
        "colab": {
          "base_uri": "https://localhost:8080/",
          "height": 17
        },
        "id": "7qNJAxA1dvX8",
        "outputId": "29b52f20-ec58-40c8-9592-e2950d2abaa2"
      },
      "execution_count": 34,
      "outputs": [
        {
          "output_type": "display_data",
          "data": {
            "text/plain": [
              "<IPython.core.display.HTML object>"
            ],
            "text/html": [
              "\n",
              "  <style>\n",
              "    pre {\n",
              "        white-space: pre-wrap;\n",
              "    }\n",
              "  </style>\n",
              "  "
            ]
          },
          "metadata": {}
        }
      ]
    },
    {
      "cell_type": "code",
      "source": [
        "pdfreader = PdfReader('oil2.pdf')"
      ],
      "metadata": {
        "colab": {
          "base_uri": "https://localhost:8080/",
          "height": 17
        },
        "id": "oEFnVLB8d8tV",
        "outputId": "4509988e-071c-4d6e-958c-3de68f089724"
      },
      "execution_count": 35,
      "outputs": [
        {
          "output_type": "display_data",
          "data": {
            "text/plain": [
              "<IPython.core.display.HTML object>"
            ],
            "text/html": [
              "\n",
              "  <style>\n",
              "    pre {\n",
              "        white-space: pre-wrap;\n",
              "    }\n",
              "  </style>\n",
              "  "
            ]
          },
          "metadata": {}
        }
      ]
    },
    {
      "cell_type": "code",
      "source": [
        "print(len(pdfreader.pages))"
      ],
      "metadata": {
        "colab": {
          "base_uri": "https://localhost:8080/",
          "height": 34
        },
        "id": "vP8anhfbgli4",
        "outputId": "63780b7d-b59a-483f-88fd-34d7b001b5ab"
      },
      "execution_count": 36,
      "outputs": [
        {
          "output_type": "display_data",
          "data": {
            "text/plain": [
              "<IPython.core.display.HTML object>"
            ],
            "text/html": [
              "\n",
              "  <style>\n",
              "    pre {\n",
              "        white-space: pre-wrap;\n",
              "    }\n",
              "  </style>\n",
              "  "
            ]
          },
          "metadata": {}
        },
        {
          "output_type": "stream",
          "name": "stdout",
          "text": [
            "13\n"
          ]
        }
      ]
    },
    {
      "cell_type": "code",
      "source": [
        "pip install typing_extensions"
      ],
      "metadata": {
        "colab": {
          "base_uri": "https://localhost:8080/",
          "height": 34
        },
        "id": "P27_qyVohL7X",
        "outputId": "a593f2d6-a316-4f9b-d267-c64acdf4839c"
      },
      "execution_count": 37,
      "outputs": [
        {
          "output_type": "display_data",
          "data": {
            "text/plain": [
              "<IPython.core.display.HTML object>"
            ],
            "text/html": [
              "\n",
              "  <style>\n",
              "    pre {\n",
              "        white-space: pre-wrap;\n",
              "    }\n",
              "  </style>\n",
              "  "
            ]
          },
          "metadata": {}
        },
        {
          "output_type": "stream",
          "name": "stdout",
          "text": [
            "Requirement already satisfied: typing_extensions in /usr/local/lib/python3.10/dist-packages (4.5.0)\n"
          ]
        }
      ]
    },
    {
      "cell_type": "code",
      "source": [
        "from typing_extensions import Concatenate\n",
        "# read text from pdf\n",
        "text = ''\n",
        "for i, page in enumerate(pdfreader.pages):\n",
        "    content = page.extract_text()\n",
        "    if content:\n",
        "        text += content\n"
      ],
      "metadata": {
        "colab": {
          "base_uri": "https://localhost:8080/",
          "height": 17
        },
        "id": "0pCnNk0QhJQP",
        "outputId": "5e800067-415c-4b4e-bcda-07b3436444b1"
      },
      "execution_count": 38,
      "outputs": [
        {
          "output_type": "display_data",
          "data": {
            "text/plain": [
              "<IPython.core.display.HTML object>"
            ],
            "text/html": [
              "\n",
              "  <style>\n",
              "    pre {\n",
              "        white-space: pre-wrap;\n",
              "    }\n",
              "  </style>\n",
              "  "
            ]
          },
          "metadata": {}
        }
      ]
    },
    {
      "cell_type": "code",
      "source": [
        "text"
      ],
      "metadata": {
        "colab": {
          "base_uri": "https://localhost:8080/",
          "height": 140
        },
        "id": "zOPGQRilhz-v",
        "outputId": "515dc90d-efad-4684-a6b1-88a40bdbd457"
      },
      "execution_count": 39,
      "outputs": [
        {
          "output_type": "display_data",
          "data": {
            "text/plain": [
              "<IPython.core.display.HTML object>"
            ],
            "text/html": [
              "\n",
              "  <style>\n",
              "    pre {\n",
              "        white-space: pre-wrap;\n",
              "    }\n",
              "  </style>\n",
              "  "
            ]
          },
          "metadata": {}
        },
        {
          "output_type": "execute_result",
          "data": {
            "text/plain": [
              "'RESEARCH PAPER  PETROLEUM EXPLORATION AND DEVELOPMENT  \\nVolume 50, Issue 6, December 2023 Online English edition of the Chinese language journal \\nCite this article as: PETROL. EXPLOR. DEVELOP., 2023, 50(6): 1269–1281. \\n \\n \\nReceived date: 22 Mar. 2023; Revised date:  20 Aug. 2023.  \\n* Corresponding author.  E-mail: wxiaojun@petrochina.com.cn \\nFoundation item:  Supported by the Central Guiding Local Science and Technology Development Special Project (ZY20B13). \\nhttps://doi.org/10.1016/S1876-3804(24)60465-9 \\nCopyright © 2023, Research Institute of Petr oleum Exploration and Development Co., Ltd., CNPC (RIPED). Publishing Services provided by Elsevier B.V. on \\nbehalf of KeAi Communications Co., Ltd. This is an open acce ss article under the CC BY-NC-ND license (http://creativecommons.or g/licenses/by-nc-nd/4.0/).  \\nIn-situ hydrocarbon formation and accumulation  \\nmechanisms of micro- and nano-scale pore-fracture  \\nin Gulong shale, Songliao Basin, NE China \\nWANG Xiaojun1, 2, *, CUI Baowen1, 2, FENG Zihui1, 3, SHAO Hongmei1, 3, HUO Qiuli1, 3, ZHANG Bin4,  \\nGAO Bo1, 3, ZENG Huasen1, 3  \\n1. National Key Laboratory of Continen tal Shale Oil, Daqing 163002, China;  \\n2. PetroChina Daqing Oilfield Co ., Ltd., Daqing 163002, China;  \\n3. PetroChina Daqing Oilfield Expl oration and Development Research Institute, Daqing 163712, China;  \\n4. PetroChina Research Institute of Petroleum Exploration & Development, Beijing 100083, China \\nAbstract:   By conducting experimental analyses, including thermal pyrolysis, micro-/nano-CT, argon-ion polishing field emis-\\nsion scanning electron micros copy (FE-SEM), confocal laser scanning microscopy (CLSM), an d two-dimensional nuclear mag-\\nnetic resonance (2D NMR), the Gulong shale oil in the Songliao Basin was investigated with resp ect to formation model, pore \\nstructure and accumulation mechanism. First, in the Gulong shale, there are a large number of pico-algae, nano-algae and di-\\nnoflagellates, which were formed in brackish water environment and constituted the hydrogen-rich oil source materials of shale. Second, most of the oil-generating  materials of the Qingshankou Formation shale exist in the form of organo-clay com-\\nplex. During organic matter thermal evolution, clay minerals had double effects of suppression and catalytic hydrogenation, which expanded shale oil window and increased light hydrocarbon yield. Third, the formation of storage space in the Gulong Shale was related to dissolution and hydroc arbon generation. With the diagenesis, micro-/nano-pores increased, pore diameter \\ndecreased and more bedding fractures appeared, which jointly gave rise to the unique reservoir with dual media (i.e. nano-scale  \\npores and micro-scale bedding fractures) in the Gulong shale. Fo urth, the micro-/nano-scale oil storage unit in the Gulong shale \\nexhibits independent oil/gas occurrence phase, and shows that all-size pores contain oils, which occur in condensate state in micropores or in oil-gas two phase (or liquid) state in macr opores/mesopores. The understanding about Gulong shale oil for-\\nmation and accumulation mechanism has theoretical and practical significance for advancing continental shale oil exploration in China. \\nKey words:  micro-/nano-scale oil storage unit; hydrocarbon occurrence phase; organo-clay complex; in-situ hydrocarbon ac-\\ncumulation; Gulong shale oil; Cretaceous  Qingshankou Formation; Songliao Basin \\nIntroduction \\nThere are three types of cont inental shale oil, namely \\ninterlayer, hybrid, and shale [1]. The shale oil of the Cre-\\ntaceous Qingshankou Formation in the Songliao Basin is \\na typical shale type and the first shale type that has been \\ncommercially explored in China and abroad. The first breakthrough to Qingshankou Formation shale oil was made \\nin the Gulong sag, therefore called Gulong shale oil \\n[2–3]. \\nCompared with shales in other basins, Gulong shale is characterized by high shale and clay contents, and small \\npore size \\n[4–7]. The shale content of Gulong shale is over  95%. Interlayers such as do lomite, shelly limestone and \\nsiltstone are thin, only a few centimeters each. The clay \\ncontent is high, 25.0%–40.0% (avg. 35.6%), which is mainly illite and a little smec tite at shallower layers, but \\nmissing at over 1650 m. The pore structure is complex, mainly nano–micro matrix pores and bedding fractures, and micro-fractures. Matrix pores include intergranular \\nmineral pores, intercrystalline  clay pores, organic pores, \\ndissolution pores, etc. The pore diameter is generally 10–50 nm, and the median is 20–30 nm. The bedding \\nfractures are 50–150 nm wide under field emission scan-\\nWANG Xiaojun et al. / Petroleum Exploratio n and Development, 2023, 50(6): 1269–1281 \\n \\n \\uf02d 1270 \\uf02dning electron microscopy (FE-SEM). \\nRegarding the special type of shale, Sun et al. [8] pro-\\nposed six key scientific issues, including organic matter \\norigin and hydrocarbon generation mechanism, reservoir \\nspace structure and type, mineralogical evolution char-\\nacteristics, mechanical property and reservoir stimula-tion mechanism, shale oil occurrence and phase, and \\nenhancing shale oil recovery. Focusing on these issues, \\nmany studies have been conducted and lots of achieve-ments have been gained arou nd fine-grained sedimentary \\nenvironment, hydrocarbon ge neration, reservoir space \\nevolution, fracturing stimul ation, and development plan. \\nThe theory of in-situ shale oil accumulation was proposed, \\nand strongly supports the selection of sweet spots, re-\\nsource assessment, fracturing treatment, and reserves submission \\n[9–10]. \\nCompared with other shale oi l-rich basins worldwide, \\nthe formation and enrichment of Gulong shale oil are more closely related to organic matter and clay mineral \\nevolution \\n[11]. Controlled by the special type, there are lots \\nof problems need to be solved  to develop Gulong shale oil. \\nConventional hydrocarbon generation theory [12–14] shows \\nthat the origin and type of organic matter determine the \\nhydrocarbon generation model, while clay minerals have opposite effects on hydrocarbon generation, catalysis or \\nretardation. Gulong shale has a higher clay content \\nwhose effects on hydrocarbon generation have not been clear. With the diagenesis, pores in Gulong shale became \\nsmaller significantly, resulting in the pore throats gener-\\nally less than 10 nm \\n[6], and much smaller than the lower \\nlimit of the oil-containing po re size in the Triassic Yan-\\nchang Formation in the Ordos Basin, the Paleogene Kongdian Formation in the Bohai Bay Basin, and the Permian Lucaogou Formation in Juanggar Basin \\n[15–18]. It \\nis necessary to investigate how such shale oil reservoir space and flow path are co nstructed. Numerical simula-\\ntion shows that oil in nanopores in Gulong shale has \\nlower critical pressure, therefore, oil in small pores is in \\ncondensate state \\n[19]. The analysis of shale oil forming \\ncondition shows that the Gulo ng shale oil reservoir has a \\ncomplex of many independent oil-bearing micro-nano pores at different pressure and with different fluid prop-erties \\n[20]. However, such simulation or analysis results \\nhave not been proved in practice. In summary, as explo-ration and development go on, the forming and enrich-\\nment laws of shale-type shale oil will be further under-\\nstood. \\nTaking the Qingshankou Formation shale in the \\nSongliao Basin as a case, this paper studies the organic matter origin, shale oil formation and evolution model, \\nreservoir pore and fracture structure and genesis, shale oil occurrence space and enrichment law through mi-\\ncro-nano CT, confocal laser scanning microscopy (CLSM), \\nargon ion milling-field emission scanning electron mi-croscopy (FE-SEM), 2D nuclear magnetic resonance spectroscopy (2D-NMR), and thermal pyrolysis of open \\nand close systems, and proposes that Gulong shale oil is a complex of large amounts of micro-nano scale oil storage \\nunits with independent phase states. The results are not \\nonly important for the exploration of Gulong shale oil, but also scientifically significant for the theoretical un-\\nderstanding of terrestrial shal e oil accumulation in China. \\n1.  Overview of Gulong shale oil \\nThe Songliao Basin covering 26×104 km2 is a typical \\ncontinental fault-depression lacustrine basin which is \\ndominated by Cretaceous formations. The basin experi-\\nenced two massive lake transgressions during the Late \\nCretaceous, resulting in the Qingshankou Fm. and the \\nNenjiang Fm., respectively. They are widely spread \\nsemi-deep lacustrine deposits. \\nGulong shale refers to the deep-water organic-rich fi-\\nne-grained laminated rock unit with certain thermal \\nmaturity and diagenesis in th e terrestrial strata in the \\nSongliao Basin [3]. Vertically, Gulong shale is mainly de-\\nveloped in the Upper Cretaceous Qingshankou Fm. and Nenjiang Fm., of which the Qingshankou Formation is \\ndominant. Spatially, Gulong shal e is mainly distributed in \\nthe Qijia–Gulong sag, the Sanzhao sag, and the southern Changyuan plateau, with the Qijia–Gulong sag in domi-\\nnance (Fig. 1). Vertically, Gulong shale oil is mainly dis-\\ntributed in the first member and the lower part of the \\nsecond member of the Qingshankou Fm. According to the \\ndepositional cycles, there are 9 shale oil layers (Q\\n1–Q 9 \\nupward) which have been tested to have oil. \\nThe favorable area for shale oil exploration is about \\n1.46×104 km2, and the estimated geological resource is \\n(100–150) ×108 t (Ro>0.75%) [9], of which the light oil zone \\n(Ro>1.2% and oil density less than 0.83 g/cm3) has an area \\nof 2778 km2. In 2021, new prediction of oil reserves was \\n12.68×108 t, and gas reserves was 3159.06×108 m3 [10]. \\nGulong shale oil is self-sourced. Its organic matter \\ncontent is high and TOC is 2%–5%. The thermally mature \\narea is wide with Ro in the range of 0.5%–1.6%, indicating \\na large oil potential. Gulong shale is the primary source \\nof conventional oil in the Daqing Changyuan plateau. In \\naddition, Gulong shale contains abundant oil and gas, \\nwith the maximum pyrolysis free hydrocarbon content ( S1) \\nat 15 mg/g. Well GYYP1 has produced oil and gas for more \\nthan 900 days since 2018, and the equivalent oil produc-\\ntion is up to 1.4×104 t. The decline rate at the first year \\nwas only 14.5%. Many other vertical and horizontal wells \\nalso obtained good results. Ten horizontal wells drilled in \\nthe key light oil zone obtained initial oil production at 15.6–34.9 t/d, and 10–15 t \\n[3] for a long time after one year. \\nTo date, there are more than 50 vertical wells producing oil, of which 60% are commercial. There are more than 20 horizontal wells producing oil, of which 77% are  WANG Xiaojun et al. / Petroleum Exploratio n and Development, 2023, 50(6): 1269–1281 \\n \\n \\uf02d 1271 \\uf02d\\n \\nFig. 1.  Location and stratigra phic column of the study area.  commercial. The oil produced has low density of 0.74– \\n0.82 g/cm3, high content of light hydrocarbons (C 6–C14) of \\n44.7%–63.8% (avg. 53.9%). The GOR is high, ranging 70–800 m\\n3/m3, indicating giant exploration and devel-\\nopment prospects. \\n2.  Brackish water pico- and nano-algae are \\nthe main source of hydrogen-rich organic  \\nmatter in Gulong shale \\nCompared with marine an d continental shales world-\\nwide, the Qingshankou Fm. shale has a high hydrogen \\nindex (HI) and a great oil gene ration potential (Fig. 1). \\nThe original hydrogen index is 600–800 mg/g (avg. 750 \\nmg/g). The transformation ratio of kerogen is up to  \\n78.4% [21–22]. The analysis of organic macerals shows that \\nthe proportion of alginite in organic maceral is 83%–92%, that of sporinite and cutinite  is 2.7%–5.0%, and that of \\nvitrinite and in ertinite is 5.3%–12.0%. A high content of \\nalginite is an important ma terial guarantee for the for-\\nmation of hydrogen-rich organic matter. \\nBased on the analyses of thin section fluorescence, or-\\nganic petrology and paleontology, it is confirmed that the primary oil precursors in the Qingshankou Fm. shale are phytoplankton, including pico- and nano-algae, dinoflag-ellata, acritarch, and chlorophyta (Fig. 2). Their average \\nabundance in the shale oil intervals is 56%, 26%, 15% and \\n3%, respectively. Among them , nano- and pico-algae are \\nfirst identified in this study, and their size is 2–20 μm and \\n0.2–2.0 μm, respectively, and their abundance decreases upward. According to references \\n[23–24], the algae are the \\nsmallest class of photosynthetic autotrophs discovered to  \\n \\nFig. 2.  Brackish water nano- a nd pico-algae and geochemical pa rameters in Qingshankou Formation shale. WANG Xiaojun et al. / Petroleum Exploratio n and Development, 2023, 50(6): 1269–1281 \\n \\n \\uf02d 1272 \\uf02ddate, and an important contributor to the biomass and \\nproductivity in modern marine  and salt lake ecosystems. \\nAt the early depositional stage, the Qingshankou Fm. \\nmay have been affected by marine transgression [25–26], \\nwhich, on the one hand, brought massive nutrients to the \\nlake, causing algae to boom in  the ancient lake, especially \\nthe thriving of nano- and pico-algae (Fig. 2), providing \\nmaterial sources for the format ion of the shale with high \\nTOC and HI in the lower part of Qingshankou Fm., and \\non the other hand, made the salinity of the ancient lake \\nrise, resulting in salinity stra tification in the water and a \\nstrong reducing environment, providing favorable condi-\\ntions for the preservation of hydrogen-rich organic matter. \\nThe massive enrichment of or ganic matter with abundant \\nalginite and the excellent preservation conditions in Gu-long shale laid a material foundation for the large-scale \\nformation of shale oil. \\n3.  Interaction between hydrogen-rich organic \\nmatter and clay minerals extends oil window \\nand increases light hydrocarbon yield \\nThe activation energy for hydrocarbon generation can \\nbe measured by open system pyrolysis that was con-\\nducted in a Rock-Eval [26–27]. In order to determine the \\ninfluence of different types of clay minerals on hydro-\\ncarbon generation, four comparative experiments of ker-\\nogen, kerogen + smectite, kerogen + illite and kerogen + \\nchlorite were conducted, respectively, in this study. Ac-cording to the whole-rock mineral composition and TOC, \\nthe mass ratio of kerogen to clay mineral is 1 to 4. The \\npyrolysis experiment results show that the weighted average activation energy required by hydrocarbon gen-\\neration from kerogen is 209.8 kJ/mol, which is less than \\nthe activation energy of the mixture of kerogen and clay. The weighted average activation energy required by hy-\\ndrocarbon generation from the mixture of kerogen + \\nsmectite is the maximum, 21 1.79 kJ/mol, followed by the \\nmixture of kerogen + chlorite, 211.19 kJ/mol, and the last \\nkerogen + illite, 210.29 kJ/mol. The cause for the phe-\\nnomenon above is the bonding interaction, namely hy-drogen bond, ion dipole force, cation exchange, and Van \\nder Waals force, between clay minerals and organic mat-\\nter \\n[28–29], which increase the activation energy for kerogen decomposition and slow the process of organic matter \\ncracking. Clay minerals, especially smectite, have an ob-\\nvious inhibitory effect on hydrocarbon generation from organic matter. \\nIn order to quantitatively determine the hydrocarbon \\nproduction at different mature stages, pyrolysis experi-ments on kerogen and whole rock (i.e., kerogen + clay \\nminerals) were carried out respectively. The clay mineral \\ncomposition of the core sample  is 35% smectite, 23% illite, \\n11% kaolinite, and 13% chlorite. The experiment was \\nconducted in a proprietary close pyrolysis system with \\ncapsular vessels. As shown in Fig. 3, the transformation ratio of the kerogen sample is higher than that of the \\nwhole rock sample when \\nRo is 0.5%–1.5%. According to \\nthe evolution stage of organic matter, the kerogen sample \\nreaches its hydrocarbon generation peak when Ro is 0.8%, \\nand the oil window corresponds to Ro in the range of \\n0.5%–1.3%; the whole rock sample reaches its hydrogen generation peak when \\nRo i s  1 . 0 %  a n d  t h e  o i l  w i n d o w  \\ncorresponds to Ro in the range of 0.7%–1.6%. This indi-\\ncates that if there are clay minerals, the thermal maturity should be higher and the oil window will extend, which is \\nin accordance with the results of open system pyrolysis. It \\nis worth noting that although the organic matter in the whole-rock sample reaches its peak oil generation late, \\nthe oil yield increases significantly. The amount of oil \\ngenerated from the kerogen sample is only 22 mg/g (after being converted to a whole rock sample), but that gener-\\nated from the whole rock sample is 32 mg/g, indicating \\nthat clay minerals can in crease hydrocarbon yield. \\nIn order to investigate the effects of clay minerals on \\nhydrocarbon composition, we installed a proprietary py-rolysis device in front of a gas chromatograph, so that rock pyrolysis products dire ctly entered the gas chro-\\nmatograph. As shown in Fig. 4, light hydrocarbon (C\\n6–C14) \\nand heavy hydrocarbon (C 14+) yielded from a kerogen \\nsample are similar, both about 36%, and gaseous hydro-\\ncarbon (C 1–C5) is 28%. From the mixture of kerogen and \\nsmectite, light hydrocarbon in creases to 46%, heavy hy-\\ndrocarbon decreases to 28%, and gaseous hydrocarbons is 26%, indicating that smectite  hydrogenation is significant \\nin organic matter cracking. From the mixture of kerogen \\nand illite (or chlorite), light hydrocarbon increases not as  \\n \\nFig. 3.  Transformation ra tio and oil yield vs. Ro in a closed pyrol ysis system. WANG Xiaojun et al. / Petroleum Exploratio n and Development, 2023, 50(6): 1269–1281 \\n \\n \\uf02d 1273 \\uf02d\\n \\nFig. 4.  Hydrocarbon composition generated from different sampl es in an open pyrolysis system. \\nhigh as that from the mixture of kerogen + smectite, but \\nboth (39% for illite and 41% for chlorite) higher than that \\nfrom the pure kerogen sample. It is proven that the in-\\nvolvement of clay minerals in organic matter cracking can increase not only the to tal hydrocarbon yield, but \\nalso the content of light hydrocarbon. The main mecha-nism is that the metal hydrated ions existing in clay mineral inter-layers can provide additional hydrogen \\nsources for oil cracking and reduce the disproportiona-\\ntion degree of crude oil cracking reaction \\n[28–29], that is to \\ninhibit the direct cracking of long-chain hydrocarbons \\ninto gas, thus increasing the content of light hydrocar-\\nbons in the final product. \\n4.  Main accumulation space for shale oil is  \\ncontrolled by hydrocarbon generation and  \\ndissolution  \\nGulong shale has a high content of clay minerals whose \\nparticle size is at mud level. With the increase of burial depth and enhancement of diagenesis, primary inter-\\ngranular pores and inter-cr ystalline pores decrease rap-\\nidly [30]. The analysis results of FE-SEM and energy dis-\\npersive spectroscopy (EDS) show that the formation of oil \\naccumulation space for moderate to high mature Gulong \\nshale oil is mainly related to hydrocarbon generation and \\ndissolution (Fig. 5). \\nWith the increase of thermal maturity, a large number \\nof organic pores are formed in clay-rich shale. Conven-\\ntional organic pores generall y refer to the void inside \\norganic matter, formed in solid bitumen due to thermal cracking of retained oil in intergranular pores or dissolu-tion pores, and gas escaping at  high mature stage. These \\norganic pores are usually circular or oval with larger di-\\nameters \\n[31–32]. In this study, FE-SEM observation of more \\nthan 80 samples from 10 wells found that Gulong shale \\nhas a few organic pores of this kind, instead most organic pores are the result of therma l evolution of organo-clay \\ncomplex and related to volu me shrinkage caused by  \\n \\nFig. 5.  Micro-characteristics of organic pores in Gulong shale with different maturity. WANG Xiaojun et al. / Petroleum Exploratio n and Development, 2023, 50(6): 1269–1281 \\n \\n \\uf02d 1274 \\uf02dhydrocarbon generation. It is  suggested that hydrocarbon \\ngeneration is concurrent with  reservoir space formation. \\nComparative analysis of shale samples with different \\nmaturity degrees shows that a large amount of \\nlamalginite are dis tributed along bedding and a few or-\\nganic pores are present in immature to low mature shales \\n(Fig. 5a); in moderately mature shales, slit pores appear \\nat the edges of organic matter (Fig. 5b); and in high ma-\\nture shales, the number of pores at the edges of organic matter increases significantly,  and a large number of re-\\nticular pores appear in orga no-clay complex (Fig. 5c). \\nThis indicates that the formation of organic pores is re-lated to the thermal evolution of organic matter. \\nIn order to verify the formation mechanism of organic \\npores in Gulong shale, a low mature shale sample from Well Min71 (\\nRo 0.58%) was selected for pyrolysis experi-\\nment to observe the format ion process of organic pores \\nwith hydrocarbon generation (Fig. 5d–5f). The results show that organic pores are undeveloped in the original \\nsample, with the surface porosity of only 0.3% (Fig. 5d); \\nwhen the temperature reaches 300 \\uf0b0C and the corre-\\nsponding \\nRo value reaches 0.83%, lamalginite shrink due \\nto hydrocarbon generation, forming slit organic pores distributed along bedding, with  the surface porosity up to \\n5.1% (Fig. 5e); when the temperature reaches 400 \\uf0b0C and \\nthe corresponding \\nRo value is 1.4%, organic pores are \\ndeveloped in large quantities, with the surface porosity up to 14.5%. The experiment results prove that in the \\nprocess of diagenesis, especia lly at mature and high-ma-\\nture stages, the volume shri nkage of organic matter can \\nform a large number of spon gy or bubble organic pores \\nand fractures. At moderate to high-mature stages of Gu-\\nlong shale, influenced by the massive formation of or-\\nganic pores, the total porosity shows a significant positive \\ncorrelation with TOC\\n [33]. \\nIn addition to the development of organic pores, a \\nlarge number of secondary pores formed due to mineral dissolution can also be seen in Gulong shale. The EDS \\nanalysis results show that the dissolved minerals are siderite, potassium feldspar, plagioclase feldspar, etc. \\nDissolution pores are generally induced by organic acids \\nformed during conversion of organic matter to oil and gas on unstable minerals in shale \\n[34]; therefore, the devel-\\nopment of these pores is usually related to the thermal evolution of organic matter. At immature to low-mature stage, organic matter has no t started massive hydrocar-\\nbon generation yet, the content of organic acid and other acid fluids is low, and dissolution pores in shale are less than 10%, and poorly connected. At mature stage, mas-\\nsive organic acids promote dissolution of feldspar, car-\\nbonate, and other minerals, leaving a large number of \\ndissolution pores. In this stage, some minerals are com-\\npletely dissolved to form mold pores and the proportion \\nof dissolution pores is up to over half of total pores, and pore connectivity becomes good. At high mature stage, \\nthe content of organic acids in shale decreases, and some \\nparticle dissolution pores are filled with neogenic miner-als, such as quartz and chlori te, at the time they formed. \\nThe proportion of dissolution  pores is less than 20%. \\nBased on a large number of measured data, porosity, \\npore type and pore structure evolution models are estab-\\nlished for Gulong shale (Fig. 6). The porosity shows a \\ntrend of decreasing first and then increasing with burial \\ndepth. At high mature stage, the total porosity can be up \\nt o  1 5 % ,  a n d  t h e  e f f e c t i v e  p o r o s i t y  c a n  b e  u p  t o  1 2 % ,  i n  \\ncontrast with conventional understanding that reservoir porosity gradually decreases with  burial depth. At the A1 \\nstage of middle diagenesis, the porosity decreases with \\nburial depth, and the pores are mainly intergranular \\npores, showing that intergranular pores gradually de-\\ncrease with the increase of burial depth due to mechani-\\ncal compaction. At the A2 st age of middle diagenesis, the \\nporosity increases and pores are almost dissolution pores \\nand organic pores, resulting in increasing reservoir space. \\nAt the B stage of middle diag enesis, the porosity increases \\nfurther. Although the number of dissolution pores de-\\ncreases, the number of or ganic pores increases signifi-\\ncantly, up to 70%, so that organic pores provide the pri-\\nmary space for oil accumulation. The nitrogen adsorption \\nexperiment results show that the pore volume of Gulong \\nshale increases slightly from stages A1 to B of the middle diagenesis, but the average pore radius shows a decreas-\\ning trend, from 15 nm to ca. 5 nm, indicating that organic pores are dominated by small pores. The results of high-pressure mercury intrusion analysis show that the \\nmaximum and the average pore throat radius of Gulong \\nshale at the B stage of the middle diagenesis both have an increasing trend, which is different from the conclusion \\nof the nitrogen adsorption experiment. The possible rea-\\nson is that a large number of bedding fractures produced \\nat the B stage increase the pore throat radius of the bulk \\nsamples used in the high-pressure mercury intrusion analysis, but have little effect on the powdered samples in the nitrogen adsorption analysis. \\n5.  Nano-pores and micro-bedding fractures \\ncontribute to the reservoir space in Gulong \\nshale \\nBased on helium porosity, a full-scale pore size distri-\\nbution characteriza tion method for shale reservoir was \\nestablished by combination of nitrogen adsorption, \\nhigh-pressure mercury intrusion, FE-SEM and CT tech-\\nniques. The number of pores in different size intervals is \\ndetermined as follows: for th e pores larger than 1000 nm, \\nboth porosity and pore size distribution are determined \\nby CT; for the pores less than 128 nm, the porosity is \\nmeasured by high-pressure mercury intrusion experi-ment, and the pore size distri bution is determined by  WANG Xiaojun et al. / Petroleum Exploratio n and Development, 2023, 50(6): 1269–1281 \\n \\n \\uf02d 1275 \\uf02d\\n \\nFig. 6.  Pore types and evoluti on with diagenesis in Gulong shale. \\nconsidering nitrogen adsorption analysis; the porosity of \\npores between 128 and 1000 nm is that the total porosity \\nminus the porosity of the pores larger than 1000 nm and \\nthose smaller than 128 nm, and the pore size distribution \\nis determined by FE-EM analysis by assuming the maxi-\\nmum sphere algorithm. The experimental results of all pore size intervals are normalized to get the full-scale \\npore size distribution. \\nThe result shows that pore size distribution of Gulong \\nshale with different maturi ties changes from large to \\nsmall and from multiple peaks to single peaks with in-\\ncreasing maturity (Fig. 7). The maturity of the shale sam-ple from Well CH21 is low (\\nRo=0.78%), and the total po-\\nrosity is 4.1%. The pore size distribution shows a roughly tri-peak pattern, with main peaks at 8–32 nm, 256–512 nm and greater than 5000 nm, respectively. The porosity \\nat the three peaks is 0.7%, 1.0%, and 0.5%, respectively, \\nindicating coexistence of nano-pores and micro-pores. The maturity of the shale sample from Well GY2HC in-\\ncreases (\\nRo=1.37%) and the total porosity is 9.2%. The \\npore size distribution shows a roughly bi-peak pattern, \\nwith main peaks at 2 nm to 8 nm and 256–512 nm, re-\\nspectively. The porosity at two peaks is 2.4% and 1.8%, \\nrespectively, indicating the domination of nano-pores. \\nThe maturity of the shale sample from Well GY1 is high \\n(Ro=1.61%), and the total porosity is 10.5%. The pore size \\ndistribution shows a single peak pattern, with main peak at 2 nm to 8 nm and porosity of 3.4%. The contribution of pores smaller than 50 nm to the total porosity is over 65%, \\nindicating that mesopores and micropores become the primary space for oil in Gulong shale. The pore diameter \\nof Gulong shale is far smaller than that of other conti-\\nnental shale oil reservoirs discovered in China (mainly 80–200 nm) \\n[35], and smaller than that of marine shale oil \\nreservoirs (mainly 80–100 nm) [36]. \\nThe analysis results of micro-CT (a 2-cm-long sample \\nwith fracture width resolution greater than 7 μm) and \\nnano-CT (a 2-mm-long sample with fracture width reso-\\nlution of 0.7–7.0 μm) of Gulong shale show that bedding fractures are abundant and increase with thermal ma-\\nturity (Table 1). When \\nRo is less than 1.0%, there are fewer \\nbedding fractures, and mi cro-pores dominate, but \\nnano-pores are not developed. For example, the micro-CT \\nanalysis of shale samples from wells CY6801, CH21 and \\nZY1 shows that the bedding fractures are 12.78–38.07 μm wide (avg. 26.47 μm), the fracture spacing is 2.3–11.31 mm \\n(avg. 4.82 mm) and the corresponding porosity is \\n0.25%–3.45%. Most shale samples have fracture porosity less than 1.0%, except those affected by natural fractures. \\nThe nano-CT analysis shows that there are sparse bed-\\nding fractures in most shale samples, the visible fractures are 2.05–4.12 μm wide and the fracture porosity is only \\n0.05%–0.38%. When \\nRo vlaue larger than 1.0%, micro-CT \\nand nano-CT analysis results show  that both the number of  WANG Xiaojun et al. / Petroleum Exploratio n and Development, 2023, 50(6): 1269–1281 \\n \\n \\uf02d 1276 \\uf02d\\n \\nFig. 7.   Full-scale pore size distribution derived from integrated meth ods in Gulong shale. \\nTable 1.  Micro-CT and nano- CT analysis of Gulong shale \\nA 2-cm-long sample with frac ture width larger than 7 μm A 2-mm-long sample with fracture width of 0.7–7.0 μm\\nWell No. Well  \\ndepth/m Ro/ \\n% Average fracture \\nwidth/μm Average fracture \\nspacing/mm Porosity/\\n% Average fracture \\nwidth/μm Average fracture \\nspacing/mm Porosity/\\n% \\nCY6801 1080.37 0.55 28.70 5.04 1.00 3.14  0.38 \\nCY6801 1132.12 0.58 33.80 11.31 0.45    \\nCH21 1602.33 0.76 38.07 5.54 1.33    \\nCH21 1640.88 0.80 36.52  0.45    \\nZY1 2032.10 0.95 16.64 2.30 0.31    \\nZY1 2036.59 0.96 12.78 4.19 0.25 4.12  0.15 \\nZY1 2038.60 0.96 36.90 2.97 3.45 2.05  0.05 \\nZY1 2039.60 0.96 15.23 2.54 0.56    \\nZY1 2041.60 0.99 13.48 4.71 0.28    \\nZY1 2042.60 0.99 32.67  0.78    \\nGY3HC 2461.70 1.39 29.40 2.22 1.32 2.67 0.32 0.83 \\nGY3HC 2476.93 1.44 38.18 2.55 1.61 2.46 0.35 0.71 \\nGY8HC 2459.10 1.44 29.02 2.69 1.08 2.69 0.54 0.55 \\nGY8HC 2467.80 1.46 22.70 2.61 1.07 3.15 0.42 0.94 \\nGY1 2454.19 1.53 41.98 5.22 1.78 3.05 0.33 0.57 \\nGY1 2497.51 1.58 32.16 3.71 1.17 3.13 0.34 0.85 \\n \\nbedding fractures and fractu re width increase signifi-\\ncantly. For example, the micro-CT analysis of the shale \\nsamples from Wells GY3HC, GY8HC and GY1 shows that \\nthe width of the bedding fractures ranges from 22.7 μm to 41.98 μm (avg. 32.24 μm), the fracture spacing ranges \\nfrom 2.22 mm to 5.22 mm (avg. 3.16 mm), and the frac-\\nture porosity ranges from 1. 08% to 1.78%. The nano-CT \\nanalysis shows the width of the bedding fractures is \\n2.46–3.15 μm (avg. 2.85 μm), the fracture spacing is \\n0.32–0.54 mm (avg. 0.38mm), and the average bedding fracture density is 2631 fractures/m. The increase in bed-ding fracture width and densit y with increasing maturity \\nnot only provides new accumulation space for Gulong \\nshale oil (dual-porosity media, i.e., nano-pores and mi-\\ncro-bedding fractures), but also provides a key factor for the increase of horizontal pe rmeability. Air permeability \\ntest results show that the vertical permeability is (0.001–0.010)×10\\n–3 μm2 (avg. 0.0075×10–3 μm2), and the \\nhorizontal permeability is (0.01–0.45)×10–3 μm2 (avg. \\n0.15×10–3 μm2) .  T h e  h o r i z o n t a l  p e r m e a b i l i t y  i s  2 0  t i m e s  \\nthe vertical permeability, mainly depending on the con-tribution of bedding fractures. WANG Xiaojun et al. / Petroleum Exploratio n and Development, 2023, 50(6): 1269–1281 \\n \\n \\uf02d 1277 \\uf02d\\n \\nFig. 8.  CLSM images of Gulong shale oil (Shale; 1851.23 m; Well ZH2911) . \\nThe CLSM analysis results (Fig. 8) show that bedding \\nfractures are not only oil accumulation space, but also \\nimportant paths for oil migration and recovery. Both bedding fractures and matrix pores in the shale sample \\nfrom Well ZH2911 (\\nRo=0.9%) contain oil, and the total oil \\ncontent is 2.5%, including 1.5% light hydrocarbon and \\n1.0% heavy hydrocarbon (i.e., the ratio of light to heavy \\nhydrocarbons is 1.5). The oil content in bedding fractures \\nis 1.54%, in which light hydr ocarbon accounts for 0.95%, \\nand heavy hydrocarbon 0.59%, with the light-to-heavy \\nratio at 1.61, indicating that the oil is lighter. The oil con-\\ntent in matrix pores is 0.96%, in which light hydrocarbon \\naccounts for 0.55%, and heavy hydrocarbon 0.41%, with \\nthe light-to-heavy ratio at 1.33, indicating that the oil is \\nheavier. The shale oil in bedding fractures is significantly lighter than that in matrix pores, indicating that minor \\nmigration of shale oil occurs from matrix pores to bed-ding fractures. It is the micr o-scale bedding fractures that \\nconnect nano-pores in shale matrix, forming a nano- and \\nmicro-scale dual-porosity medi a that enables the produc-\\ntion of Gulong shale oil from most pores smaller than 50 nm. 6.  Gulong shale oil is a complex of numerous \\nmicro- and nano-scale oil accumulation units \\nwith independent phase states \\nFE-SEM analysis of Gulong shale (Fig. 9) reveals that \\nvarious pores such as organic pores, intergranular pores, \\ninter-crystalline pores, and be dding fractures, contain oil \\nin free, film, or impregnating states. It is suggested that \\nshale oil occurs in various states in various types of pores. \\nThe fact that bedding fractures contain free oil suggests that they not only have ac cumulation significance for \\nshale oil, but also play a key role in connecting various types of micro-pores and nano-pores and providing paths for oil migration. It should be  noted that in all types of \\noil-bearing pores, the minimum size of detectable inter-\\ncrystalline pores is 5 nm, sugges ting that all pores larger \\nthan 5 nm may contain oil. This finding breaks the old \\nunderstanding that the lower limit of oil-bearing pores \\nfor tight oil is larger than 20 nm \\n[36]. \\nFrozen and pressure-preserved Gulong shale cores are \\nin the original underground oil-bearing state. After un-\\nfrozen in a close environment (lasting about 20 min), 2D  WANG Xiaojun et al. / Petroleum Exploratio n and Development, 2023, 50(6): 1269–1281 \\n \\n \\uf02d 1278 \\uf02d\\n \\nFig. 9.  Occurrence states show n on the FE-SEM  images of Gulong  shale oil. \\nNMR experiment was performed on the cores to deter-\\nmine the original oil content.  Then they were extracted \\nby chloroform for 7 d to remove  residual oil, and analyzed \\nby 2D NMR again. By comparing the 2D NMR results before and after extraction, oi l distribution in pores of \\ndifferent sizes was determined . The division of oil and  \\nwater zones on 2D NMR T\\n1-T2 map were based on refer-\\nences [37–38], and the relationship between relaxation time \\nand pore size was established by comparing with \\nhigh-pressure mercury intrusion results. The experiment \\nresults (Fig. 10) show multi-peak distribution of shale oil in pores of different sizes. The pores having oil in the  \\nshale sample from Well GY2HC (\\nRo=1.37%) ranges from 3 \\nnm to 5000 nm, and oil almost in 20–400 nm pores. The \\ndistribution of oil-bearing pores exhibits a tri-peak pat-\\ntern, with 3–10 nm, 20–60 nm, and 60–400 nm as peaks. \\nThe oil-bearing pores in the shale sample from Well GY1 (\\nRo=1.67%) are 4–200 nm, and the general distribution \\nexhibits a bi-peak pattern, with 3–10 nm and 20–60 nm as peaks. With the increase of maturity, shale oil tends to accumulate in small pores. From Well GY2HC to Well GY1, \\nthe amount of oil in pores of 60–400 nm decreases, while \\nthe amount of oil in pores of 3–10 nm increases signifi-cantly. The trend of oil enri chment toward small pores in \\nGulong shale is due to the fact that with increasing ma-turity, a large number of nano-scale organic pores appear in organo-clay complex and stor e oil and gas there, rather \\nthan oil migrating from large pores to small pores. Oil accumulating in 3–10 nm pores further confirms that the in-situ generation and accumulation characteristic of Gulong shale oil \\n[20]. \\nAfter the original oil content was determined, the fro-\\nzen and pressure-preserved core samples were exposed for 12h under indoor conditions before conducting 2D \\nNMR analysis, in order to observe shale oil loss driven by \\noriginal formation energy. The results show that  the oil content in 2–10 nm pores in the shale sample from Well \\nGY18 is about 5% in the original underground state, but it \\ncompletely disappeared under aboveground natural con-ditions, and the loss is nearly 100% and very quick (Fig. \\n11). The oil content in pores of 20–400 nm is more than \\n90% in the underground state, and this part of oil was lost by 29.2% naturally, indicating a strong oil retention \\neffect and a slow oil loss rate. Oil in pores larger than 400 \\nnm accounts for less than 5% in the underground state, but 94.8% was lost after being exposed, probably due to \\nlarger pore sizes, indicating fa st oil loss. Assuming oil in \\ndifferent pores have identical composition, small pores \\nhave a larger specific surfac e area and adsorption, lead-\\ning to lower oil fluidity and evaporability than in larger pores. It is suggested that oil phase state is affected by nano-confinement effect \\n[39], which significantly decreases \\nthe critical pressure and temp erature of the fluid in nano- \\npores. Oil in pores less than 10 nm has lower critical pressure and temperature, so it is condensate or gaseous \\nat reservoir pressure and temper ature. Oil in larger pores  WANG Xiaojun et al. / Petroleum Exploratio n and Development, 2023, 50(6): 1269–1281 \\n \\n \\uf02d 1279 \\uf02d\\n \\nFig. 10.  2D NMR analysis resul ts of frozen and pressure-preser ved cores before and after oil removal ( top: Well GY2HC, \\n2346.09 m; bottom : Well GY1, 2568.82 m); T1—longitudinal rel axation time; T2—transverse relaxation time). \\n \\nFig. 11.  2D NMR analysis result s of shale samples before and after being naturally unfrozen (Well GY18; 2359.10 m). \\nis in liquid or gas-liquid stat e. The results are consistent \\nwith theoretical simulation [19], which demonstrates that \\nthe phase state of shale oil is affected by nano-confine-\\nment effect, characterized by fluid in small pores exhib-\\niting condensate state (or gas state) and fluid in large pores often exhibiting gas-liquid or liquid phase. \\nThe characteristics that pores less than 10 nm generally \\ncontain oil and the fact that oil phases vary in different pore sizes indicate that, in the shale oil layer in a Gulong \\nwell, even though all oil-bearing pores have similar tem-\\nperature and pressure, oil in different pores may have different fluid phases and properties. Each oil-bearing \\npore is a micro- or nano-scale oil accumulation unit with \\nindependent fluid phase. It is concluded that Gulong shale oil is composed of numerous micro- and nano-scale \\noil accumulation units. 7.  Conclusions \\nA large number of pico- and nano-algae are identified \\nin brackish water of the Cretaceous Qingshankou Forma-tion, which are the primary oil precursors in combination \\nwith dinoflagellata. The corr esponding source rock is \\ncharacterized by a high hydrogen index and a high hy-\\ndrocarbon transformation ratio. \\nMost organic matters in the Qingshankou Formation \\noccur as organo-clay complex.  During the matter thermal \\nevolution, clay minerals in crease the activation energy, \\nresist kerogen from cracking and extend the oil window. \\nClay minerals miti gate disproportiona tion reaction ef-\\nfects on oil cracking by hydrogenation, resulting in more light hydrocarbons.  \\nThe formation of accumulation space in Gulong shale WANG Xiaojun et al. / Petroleum Exploratio n and Development, 2023, 50(6): 1269–1281 \\n \\n \\uf02d 1280 \\uf02dis mainly controlled by dissolution and hydrocarbon \\ngeneration. At mature stage, dissolution effect on pore \\nformation is significant, while at high mature stage pores formed by hydrocarbon gene ration is dominant. With \\ndiagenetic evolution, micro- and nano-pores decrease, while bedding fractures increase in Gulong shale. Nano-pores and micro-bedding fractures constitute the \\nspecial dual-porosity media reservoir space in Gulong shale, and provide the important basis for shale oil mi-gration and accumulation. \\nAll-sized pores contain oil, and the visible oil-bearing \\npore is 5 nm, indicating that Gulong shale oil is generated and accumulated in-situ. Affect ed by nano-confined effect, \\nshale oil in different-sized pores is in different phases and has different fluidity. It is suggested that Gulong shale oil is composed of a large amount of nano- and micro-scale \\noil accumulation units. \\nReferences \\n[1] ZHAO Xianzheng, ZHOU Lihong, PU Xiugang, et al. \\nTheories, technologies and practices of lacustrine shale \\noil exploration and development: A case study of Paleo-\\ngene Kongdian Formation in Cangdong sag, Bohai Bay Basin, China. Petroleum Exploration and Development, \\n2022, 49(3): 616–626. \\n[2] SUN Longde. Gulong shale oil (preface). Petroleum Ge-\\nology & Oilfield Development in Daqing, 2020, 39(3): 1–7. \\n[3] SUN Longde, CUI Baowen, ZH U Rukai, et al. Shale oil \\nenrichment evaluation and production law in Gulong Sag, \\nSongliao Basin, NE China. Petroleum Exploration and De-\\nvelopment, 2023, 50(3): 441–454. \\n[4] HE Wenyuan. Discovery and significance of nano pores \\nand nano fractures of clay in Gulong shale oil reservoir in Songliao Basin. Petroleum Geology & Oilfield Develop-\\nment in Daqing, 2022, 41(3): 1–13. \\n[5] FENG Zihui, LIU Bo, SHAO Hongmei, et al. The \\ndiagenesis evolution and accumulating performance of the mud shale in Qingshankou Formation in Gulong area, Songliao Basin. Petroleum Geology & Oilfield Develop-\\nment in Daqing, 2020, 39(3): 72–85. \\n[6] HE Wenyuan, CUI Baowen, WANG Fenglan, et al. Study \\non reservoir spaces and oil states of the Cretaceous Qing-\\nshankou Formation in Gulong Sag, Songliao Basin. Geo-\\nlogical Review, 2022, 68(2): 693–741. \\n[7] GAO Bo, HE Wenyuan, FENG Zihui, et al. Lithology, \\nphysical property, oil-bearing property and their control-ling factors of Gulong shale in Songliao Basin. Petroleum Geology & Oilfield Development in Daqing, 2022, 41(3): \\n68–79. \\n[8] SUN Longde, LIU He, HE Wenyuan, et al. An analysis of \\nmajor scientific problems and research paths of Gulong shale oil in Daqing Oilfield, NE China. Petroleum Explo-\\nration and Development, 2021, 48(3): 453–463. [9] ZHU Guowen, WANG Xiaojun, ZHANG Jinyou, et al. En-\\nrichment conditions and favorable zones for exploration and development of continental shale oil in Songliao Ba-sin. Acta Petrolei Sinica, 2023, 44(1): 110–124. \\n[10] CUI Baowen, ZHAO Ying, ZHANG Ge, et al. Estimation \\nmethod and application for OOIP of Gulong shale oil in Songliao Basin. Petroleum Geology & Oilfield Develop-\\nment in Daqing, 2022, 41(3): 14–23. \\n[11] W ANG F L, FENG Z H, W ANG X, et al. Effect of organic \\nmatter, thermal maturity and clay minerals on pore for-\\nmation and evolution in the Gulong Shale, Songliao Ba-\\nsin, China. Geoenergy Science and Engineering, 2023, 223: 211507. \\n[12] TISSOT B P, WELTE D H. Petroleum formation and oc-\\ncurrence. 2\\nnd ed. Berlin: Springer, 1984. \\n[13] ESPITALIÉ J, MADEC M, TISSOT B. Role of mineral ma-\\ntrix in kerogen pyrolysis: Influence on petroleum genera-tion and migration. AAPG Bulletin, 1980, 64(1): 59–66. \\n[14] HORSFIELD B, DOUGLAS A G. The influence of minerals \\non the pyrolysis of kerogens. Geochimica et Cosmo-chimica Acta, 1980, 44(8): 1119–1131. \\n[15] ZHAO Wenzhi, BIAN Congsheng, LI Yongxin, et al. En-\\nrichment factors of movable hydrocarbons in lacustrine \\nshale oil and exploration potential of shale oil in Gulong Sag, Songliao Basin, NE China. Petroleum Exploration \\nand Development, 2023, 50(3): 455–467. \\n[16] WANG Y, LIU L F, CHENG H F. Pore structure of Triassic \\nYanchang mudstone, Ordos Basin: Insights into the im-pact of solvent extraction on porosity in lacustrine mud-\\nstone within the oil window. Journal of Petroleum Science and Engineering, 2020, 195: 107944. \\n[17] XIN B X, ZHAO X Z, HAO F, et al. Laminae characteristics \\nof lacustrine shales from the Paleogene Kongdian Forma-tion in the Cangdong Sag, Bohai Bay Basin, China: Why \\ndo laminated shales have better reservoir physical prop-\\nerties?. International Journal of Coal Geology, 2022, 260: 104056. \\n[18] ZHANG M M, LI Z. The lithofacies and reservoir charac-\\nteristics of the fine-grained sedimentary rocks of the Permian Lucaogou Formation at the northern foot of \\nBogda Mountains, Junggar Basin (NW China). Journal of \\nPetroleum Science and Engineering, 2018, 170: 21–39. \\n[19] YUAN Shiyi, LEI Zhengdong, LI Junshi, et al. Key theo-\\nretical and technical issues and countermeasures for ef-fective development of Gulong shale oil, Daqing Oilfield, NE China. Petroleum Exploration and Development, \\n2023, 50(3): 562–572. \\n[20] HE Wenyuan, MENG Qian, FENG Zihui, et al. In-situ ac-\\ncumulation theory and exploration & development prac-tice of Gulong shale oil in Songliao Basin. Acta Petrolei \\nSinica, 2022, 43(1): 1–14. \\n[21] HUO Qiuli, ZENG Huasen, QIAO Wanlin, et al. Simulat-\\ning experiment of hydrous oil generation and expulsion of \\nhigh-quality source rocks in Songliao Basin. Petroleum WANG Xiaojun et al. / Petroleum Exploratio n and Development, 2023, 50(6): 1269–1281 \\n \\n \\uf02d 1281 \\uf02dGeology & Oilfield Development in Daqing, 2011, 30(2): \\n1–5. \\n[22] FENG Zihui, HUO Qiuli, ZENG Huasen, et al. Organic \\nmatter compositions and organic pore evolution in Gu-long shale of Songliao Basi n. Petroleum Geology & Oil-\\nfield Development in Daqing, 2021, 40(5): 40–55. \\n[23] YUAN Chao, XU Qinzeng, SHAO Hebin, et al. Distribution \\nof picophytoplankton from subtropical pacific to Chukchi \\nSea during late summer. Ad vances in Marine Science, \\n2021, 39(3): 430–440. \\n[24] KRIENITZ L, BOCK C, KOTUT K, et al. \\nPicocystis salina-\\nrum (Chlorophyta) in saline lakes and hot springs of East \\nAfrica. Phycologia, 2012, 51(1): 22–32. \\n[25] FENG Zihui, FANG Wei, WANG Xue, et al. Microfossils \\nand molecular records in oil sh ales of the Songliao Basin \\nand implications for paleo-depositional environment. \\nScience China Earth Sciences, 2009, 52(10): 1559–1571. \\n[26] CAI Jingong. Organo-clay complexes in muddy sediments \\nand rocks. Beijing: Science Press, 2004: 53–143. \\n[27] CHEN Z H, LIU X J, JIANG C Q. Quick evaluation of \\nsource rock kerogen kinetics using hydrocarbon pyro-\\ngrams from regular Rock-Eval analysis. Energy & Fuels, \\n2017, 31(2): 1832–1841. \\n[28] PAN C C, JIANG L L, LIU J Z, et al. The effects of calcite \\nand montmorillonite on oil crac king in confined pyrolysis \\nexperiments. Organic Geochemi stry, 2010, 41(7): 611–626. \\n[29] YANG S Y, HORSFIELD B. Some predicted effects of \\nminerals on the generation of petroleum in nature. En-\\nergy & Fuels, 2016, 30(8): 6677–6687. \\n[30] SHAO Hongmei, GAO Bo, PAN Huifang, et al. Diagene-\\nsis-pore evolution for Gulong shale in Songliao Basin. Pe-\\ntroleum Geology & Oilfield Development in Daqing, 2021, \\n40(5): 56–67. \\n[31] LOUCKS R G, REED R M, RUPPEL S C, et al. Spectrum of \\npore types and networks in mudrocks and a descriptive classification for matrix-related mudrock pores. AAPG \\nBulletin, 2012, 96(6): 1071–1098. \\n[32] MILLIKEN K L, RUDNICKI M, AWWILLER D N, et al. \\nOrganic matter–hosted pore system, Marcellus Formation (Devonian), Pennsylvania. AAPG Bulletin, 2013, 97(2): \\n177–200. \\n[33] SUN L D, HE W Y, FENG Z H, et al. Shale oil and gas \\ngeneration process and pore fracture system evolution mechanisms of the continental Gulong Shale, Songliao Basin, China. Energy & Fuels, 2022, 36(13): 6893–6905. \\n[34] BARTH T, BJØRLYKKE K. Organic acids from source rock \\nmaturation: Generation potent ials, transport mechanisms \\nand relevance for mineral diagenesis. Applied Geochem-\\nistry, 1993, 8(4): 325–337. \\n[35] YANG Zhi, ZOU Caineng, WU Songtao, et al. Characteris-\\ntics of nano-sized pore-throat in unconventional tight reservoir rocks and its scientific value. Journal of Shen-\\nzhen University (Science & Engineering), 2015, 32(3): 257–265. \\n[36] ZOU Caineng, ZHU Rukai, BAI Bin, et al. First discovery \\nof nano-pore throat in oil and gas reservoir in China and its scientific value. Acta Petrologica Sinica, 2011, 27(6): \\n1857–1864. \\n[37] KHATIBI S, OSTADHASSAN M, XIE Z H, et al. NMR re-\\nlaxometry a new approach to detect geochemical proper-ties of organic matter in tight shales. Fuel, 2019, 235: \\n167–177. \\n[38] LI Haibo, ZHU Juyi, GUO Hekun. Methods for calculating \\npore radius distribution in rock from NMR T\\n2 spectra. \\nChinese Journal of Magnetic Resonance, 2008, 25(2): 273–280. \\n[ 3 9 ]  S O N G  Z  J ,  S O N G  Y  L ,  G U O  J ,  e t  a l .  E f f e c t  o f  n a n o p o r e  \\nconfinement on fluid phase behavior and production performance in shale oil reservoir. Industrial & Engi-\\nneering Chemistry Research, 2021, 60(3): 1463–1472. \\n '"
            ],
            "application/vnd.google.colaboratory.intrinsic+json": {
              "type": "string"
            }
          },
          "metadata": {},
          "execution_count": 39
        }
      ]
    },
    {
      "cell_type": "code",
      "source": [
        "len(text)"
      ],
      "metadata": {
        "colab": {
          "base_uri": "https://localhost:8080/",
          "height": 34
        },
        "id": "lPYmO1Fvh8Yg",
        "outputId": "fb72cdd0-e391-4797-c6d9-7944260cdaec"
      },
      "execution_count": 40,
      "outputs": [
        {
          "output_type": "display_data",
          "data": {
            "text/plain": [
              "<IPython.core.display.HTML object>"
            ],
            "text/html": [
              "\n",
              "  <style>\n",
              "    pre {\n",
              "        white-space: pre-wrap;\n",
              "    }\n",
              "  </style>\n",
              "  "
            ]
          },
          "metadata": {}
        },
        {
          "output_type": "execute_result",
          "data": {
            "text/plain": [
              "48582"
            ]
          },
          "metadata": {},
          "execution_count": 40
        }
      ]
    },
    {
      "cell_type": "markdown",
      "metadata": {
        "id": "flBNsq8NfY0Y"
      },
      "source": [
        "# Load the Model and Tokenizer"
      ]
    },
    {
      "cell_type": "code",
      "metadata": {
        "colab": {
          "base_uri": "https://localhost:8080/",
          "height": 17
        },
        "id": "By4ADnD40Zmt",
        "outputId": "24fcbceb-90f1-451c-b998-259b21f6e90b"
      },
      "source": [
        "# import and initialize the tokenizer and model from the checkpoint\n",
        "from transformers import AutoTokenizer, AutoModelForSeq2SeqLM\n",
        "\n",
        "checkpoint = \"sshleifer/distilbart-cnn-12-6\"\n",
        "\n",
        "tokenizer = AutoTokenizer.from_pretrained(checkpoint)\n",
        "model = AutoModelForSeq2SeqLM.from_pretrained(checkpoint)"
      ],
      "execution_count": 41,
      "outputs": [
        {
          "output_type": "display_data",
          "data": {
            "text/plain": [
              "<IPython.core.display.HTML object>"
            ],
            "text/html": [
              "\n",
              "  <style>\n",
              "    pre {\n",
              "        white-space: pre-wrap;\n",
              "    }\n",
              "  </style>\n",
              "  "
            ]
          },
          "metadata": {}
        }
      ]
    },
    {
      "cell_type": "markdown",
      "metadata": {
        "id": "WKVut2I8ffeG"
      },
      "source": [
        "# Some model statistics"
      ]
    },
    {
      "cell_type": "code",
      "metadata": {
        "colab": {
          "base_uri": "https://localhost:8080/",
          "height": 34
        },
        "id": "kfeTQ3u_0_nc",
        "outputId": "48d995f8-48cd-4b66-e553-8873b874c62e"
      },
      "source": [
        "# max tokens including the special tokens\n",
        "tokenizer.model_max_length"
      ],
      "execution_count": 42,
      "outputs": [
        {
          "output_type": "display_data",
          "data": {
            "text/plain": [
              "<IPython.core.display.HTML object>"
            ],
            "text/html": [
              "\n",
              "  <style>\n",
              "    pre {\n",
              "        white-space: pre-wrap;\n",
              "    }\n",
              "  </style>\n",
              "  "
            ]
          },
          "metadata": {}
        },
        {
          "output_type": "execute_result",
          "data": {
            "text/plain": [
              "1024"
            ]
          },
          "metadata": {},
          "execution_count": 42
        }
      ]
    },
    {
      "cell_type": "code",
      "metadata": {
        "colab": {
          "base_uri": "https://localhost:8080/",
          "height": 34
        },
        "id": "u_faVn_JS5NV",
        "outputId": "2c41a71a-f1f8-4c2b-db34-8d981cb1d08d"
      },
      "source": [
        "# max tokens excluding the special tokens\n",
        "tokenizer.max_len_single_sentence"
      ],
      "execution_count": 43,
      "outputs": [
        {
          "output_type": "display_data",
          "data": {
            "text/plain": [
              "<IPython.core.display.HTML object>"
            ],
            "text/html": [
              "\n",
              "  <style>\n",
              "    pre {\n",
              "        white-space: pre-wrap;\n",
              "    }\n",
              "  </style>\n",
              "  "
            ]
          },
          "metadata": {}
        },
        {
          "output_type": "execute_result",
          "data": {
            "text/plain": [
              "1022"
            ]
          },
          "metadata": {},
          "execution_count": 43
        }
      ]
    },
    {
      "cell_type": "code",
      "metadata": {
        "colab": {
          "base_uri": "https://localhost:8080/",
          "height": 34
        },
        "id": "jki18a4yNyCw",
        "outputId": "116f15f2-e34e-494b-fb26-fdb3de48367a"
      },
      "source": [
        "# number of special tokens\n",
        "tokenizer.num_special_tokens_to_add()"
      ],
      "execution_count": 44,
      "outputs": [
        {
          "output_type": "display_data",
          "data": {
            "text/plain": [
              "<IPython.core.display.HTML object>"
            ],
            "text/html": [
              "\n",
              "  <style>\n",
              "    pre {\n",
              "        white-space: pre-wrap;\n",
              "    }\n",
              "  </style>\n",
              "  "
            ]
          },
          "metadata": {}
        },
        {
          "output_type": "execute_result",
          "data": {
            "text/plain": [
              "2"
            ]
          },
          "metadata": {},
          "execution_count": 44
        }
      ]
    },
    {
      "cell_type": "markdown",
      "metadata": {
        "id": "kubwFM6MX7rR"
      },
      "source": [
        "# Convert Text content to sentences"
      ]
    },
    {
      "cell_type": "code",
      "metadata": {
        "colab": {
          "base_uri": "https://localhost:8080/",
          "height": 52
        },
        "id": "Y41E2n-BXjRr",
        "outputId": "42463e51-39d1-477b-886d-744a22607855"
      },
      "source": [
        "# extract the sentences from the document\n",
        "import nltk\n",
        "nltk.download('punkt')\n",
        "sentences = nltk.tokenize.sent_tokenize(text)"
      ],
      "execution_count": 45,
      "outputs": [
        {
          "output_type": "display_data",
          "data": {
            "text/plain": [
              "<IPython.core.display.HTML object>"
            ],
            "text/html": [
              "\n",
              "  <style>\n",
              "    pre {\n",
              "        white-space: pre-wrap;\n",
              "    }\n",
              "  </style>\n",
              "  "
            ]
          },
          "metadata": {}
        },
        {
          "output_type": "stream",
          "name": "stderr",
          "text": [
            "[nltk_data] Downloading package punkt to /root/nltk_data...\n",
            "[nltk_data]   Package punkt is already up-to-date!\n"
          ]
        }
      ]
    },
    {
      "cell_type": "code",
      "metadata": {
        "colab": {
          "base_uri": "https://localhost:8080/",
          "height": 34
        },
        "id": "S7pHJ31xbJ6O",
        "outputId": "fe824cb3-fa2d-4ac8-d380-aeaa409caf8e"
      },
      "source": [
        "# find the max tokens in the longest sentence\n",
        "max([len(tokenizer.tokenize(sentence)) for sentence in sentences])"
      ],
      "execution_count": 46,
      "outputs": [
        {
          "output_type": "display_data",
          "data": {
            "text/plain": [
              "<IPython.core.display.HTML object>"
            ],
            "text/html": [
              "\n",
              "  <style>\n",
              "    pre {\n",
              "        white-space: pre-wrap;\n",
              "    }\n",
              "  </style>\n",
              "  "
            ]
          },
          "metadata": {}
        },
        {
          "output_type": "execute_result",
          "data": {
            "text/plain": [
              "499"
            ]
          },
          "metadata": {},
          "execution_count": 46
        }
      ]
    },
    {
      "cell_type": "markdown",
      "metadata": {
        "id": "5amp-uoNezvV"
      },
      "source": [
        "# Create the chunks"
      ]
    },
    {
      "cell_type": "code",
      "metadata": {
        "colab": {
          "base_uri": "https://localhost:8080/",
          "height": 34
        },
        "id": "SO-QPuAoY6BH",
        "outputId": "402f2678-429e-4e76-abdb-466b44980f5c"
      },
      "source": [
        "# initialize\n",
        "length = 0\n",
        "chunk = \"\"\n",
        "chunks = []\n",
        "count = -1\n",
        "for sentence in sentences:\n",
        "  count += 1\n",
        "  combined_length = len(tokenizer.tokenize(sentence)) + length # add the no. of sentence tokens to the length counter\n",
        "\n",
        "  if combined_length  <= tokenizer.max_len_single_sentence: # if it doesn't exceed\n",
        "    chunk += sentence + \" \" # add the sentence to the chunk\n",
        "    length = combined_length # update the length counter\n",
        "\n",
        "    # if it is the last sentence\n",
        "    if count == len(sentences) - 1:\n",
        "      chunks.append(chunk.strip()) # save the chunk\n",
        "\n",
        "  else:\n",
        "    chunks.append(chunk.strip()) # save the chunk\n",
        "\n",
        "    # reset\n",
        "    length = 0\n",
        "    chunk = \"\"\n",
        "\n",
        "    # take care of the overflow sentence\n",
        "    chunk += sentence + \" \"\n",
        "    length = len(tokenizer.tokenize(sentence))\n",
        "len(chunks)"
      ],
      "execution_count": 48,
      "outputs": [
        {
          "output_type": "display_data",
          "data": {
            "text/plain": [
              "<IPython.core.display.HTML object>"
            ],
            "text/html": [
              "\n",
              "  <style>\n",
              "    pre {\n",
              "        white-space: pre-wrap;\n",
              "    }\n",
              "  </style>\n",
              "  "
            ]
          },
          "metadata": {}
        },
        {
          "output_type": "execute_result",
          "data": {
            "text/plain": [
              "14"
            ]
          },
          "metadata": {},
          "execution_count": 48
        }
      ]
    },
    {
      "cell_type": "markdown",
      "metadata": {
        "id": "b3MjwOU4-vWZ"
      },
      "source": [
        "# Some checks"
      ]
    },
    {
      "cell_type": "code",
      "metadata": {
        "colab": {
          "base_uri": "https://localhost:8080/",
          "height": 34
        },
        "id": "lANWYPQsa7mV",
        "outputId": "4b5b518a-94ca-4be2-9506-7c061d67827f"
      },
      "source": [
        "[len(tokenizer.tokenize(c)) for c in chunks]"
      ],
      "execution_count": 49,
      "outputs": [
        {
          "output_type": "display_data",
          "data": {
            "text/plain": [
              "<IPython.core.display.HTML object>"
            ],
            "text/html": [
              "\n",
              "  <style>\n",
              "    pre {\n",
              "        white-space: pre-wrap;\n",
              "    }\n",
              "  </style>\n",
              "  "
            ]
          },
          "metadata": {}
        },
        {
          "output_type": "execute_result",
          "data": {
            "text/plain": [
              "[987, 948, 984, 1010, 964, 1007, 1020, 980, 1015, 1018, 984, 994, 1008, 909]"
            ]
          },
          "metadata": {},
          "execution_count": 49
        }
      ]
    },
    {
      "cell_type": "code",
      "metadata": {
        "colab": {
          "base_uri": "https://localhost:8080/",
          "height": 34
        },
        "id": "0tQe2jJya_HV",
        "outputId": "714d79ed-0483-4052-ba46-e99ba805791a"
      },
      "source": [
        "[len(tokenizer(c).input_ids) for c in chunks]"
      ],
      "execution_count": 50,
      "outputs": [
        {
          "output_type": "display_data",
          "data": {
            "text/plain": [
              "<IPython.core.display.HTML object>"
            ],
            "text/html": [
              "\n",
              "  <style>\n",
              "    pre {\n",
              "        white-space: pre-wrap;\n",
              "    }\n",
              "  </style>\n",
              "  "
            ]
          },
          "metadata": {}
        },
        {
          "output_type": "execute_result",
          "data": {
            "text/plain": [
              "[989, 950, 986, 1012, 966, 1009, 1022, 982, 1017, 1020, 986, 996, 1010, 911]"
            ]
          },
          "metadata": {},
          "execution_count": 50
        }
      ]
    },
    {
      "cell_type": "markdown",
      "metadata": {
        "id": "el24gv0f-9DJ"
      },
      "source": [
        "## With special tokens added"
      ]
    },
    {
      "cell_type": "code",
      "metadata": {
        "colab": {
          "base_uri": "https://localhost:8080/",
          "height": 34
        },
        "id": "Mq-tLbFtFYHR",
        "outputId": "c141f459-f27d-470c-abcc-d57c85420061"
      },
      "source": [
        "sum([len(tokenizer(c).input_ids) for c in chunks])"
      ],
      "execution_count": 51,
      "outputs": [
        {
          "output_type": "display_data",
          "data": {
            "text/plain": [
              "<IPython.core.display.HTML object>"
            ],
            "text/html": [
              "\n",
              "  <style>\n",
              "    pre {\n",
              "        white-space: pre-wrap;\n",
              "    }\n",
              "  </style>\n",
              "  "
            ]
          },
          "metadata": {}
        },
        {
          "output_type": "execute_result",
          "data": {
            "text/plain": [
              "13856"
            ]
          },
          "metadata": {},
          "execution_count": 51
        }
      ]
    },
    {
      "cell_type": "code",
      "metadata": {
        "colab": {
          "base_uri": "https://localhost:8080/",
          "height": 69
        },
        "id": "yokzuZmuGAQ_",
        "outputId": "3102007a-e730-4a64-be54-5f95d56a7265"
      },
      "source": [
        "len(tokenizer(text).input_ids)"
      ],
      "execution_count": 52,
      "outputs": [
        {
          "output_type": "display_data",
          "data": {
            "text/plain": [
              "<IPython.core.display.HTML object>"
            ],
            "text/html": [
              "\n",
              "  <style>\n",
              "    pre {\n",
              "        white-space: pre-wrap;\n",
              "    }\n",
              "  </style>\n",
              "  "
            ]
          },
          "metadata": {}
        },
        {
          "output_type": "stream",
          "name": "stderr",
          "text": [
            "Token indices sequence length is longer than the specified maximum sequence length for this model (14077 > 1024). Running this sequence through the model will result in indexing errors\n"
          ]
        },
        {
          "output_type": "execute_result",
          "data": {
            "text/plain": [
              "14077"
            ]
          },
          "metadata": {},
          "execution_count": 52
        }
      ]
    },
    {
      "cell_type": "markdown",
      "metadata": {
        "id": "qe0UKJZr-1Qt"
      },
      "source": [
        "## Without special tokens added"
      ]
    },
    {
      "cell_type": "code",
      "metadata": {
        "colab": {
          "base_uri": "https://localhost:8080/",
          "height": 34
        },
        "id": "u1nynSGcFiSh",
        "outputId": "3e1a4502-f4d6-4bcc-9298-f12d50e74263"
      },
      "source": [
        "sum([len(tokenizer.tokenize(c)) for c in chunks])"
      ],
      "execution_count": 53,
      "outputs": [
        {
          "output_type": "display_data",
          "data": {
            "text/plain": [
              "<IPython.core.display.HTML object>"
            ],
            "text/html": [
              "\n",
              "  <style>\n",
              "    pre {\n",
              "        white-space: pre-wrap;\n",
              "    }\n",
              "  </style>\n",
              "  "
            ]
          },
          "metadata": {}
        },
        {
          "output_type": "execute_result",
          "data": {
            "text/plain": [
              "13828"
            ]
          },
          "metadata": {},
          "execution_count": 53
        }
      ]
    },
    {
      "cell_type": "code",
      "metadata": {
        "colab": {
          "base_uri": "https://localhost:8080/",
          "height": 34
        },
        "id": "JdnNz9D2GFAz",
        "outputId": "ff07134c-aa4f-444d-e3f1-22eb0de6a1e7"
      },
      "source": [
        "len(tokenizer.tokenize(text))"
      ],
      "execution_count": 54,
      "outputs": [
        {
          "output_type": "display_data",
          "data": {
            "text/plain": [
              "<IPython.core.display.HTML object>"
            ],
            "text/html": [
              "\n",
              "  <style>\n",
              "    pre {\n",
              "        white-space: pre-wrap;\n",
              "    }\n",
              "  </style>\n",
              "  "
            ]
          },
          "metadata": {}
        },
        {
          "output_type": "execute_result",
          "data": {
            "text/plain": [
              "14075"
            ]
          },
          "metadata": {},
          "execution_count": 54
        }
      ]
    },
    {
      "cell_type": "markdown",
      "metadata": {
        "id": "ZPluCcpKgGTi"
      },
      "source": [
        "# Get the inputs"
      ]
    },
    {
      "cell_type": "code",
      "metadata": {
        "colab": {
          "base_uri": "https://localhost:8080/",
          "height": 17
        },
        "id": "u98_-5RNhkEX",
        "outputId": "969895a6-5408-44de-c91f-da02d7ee8063"
      },
      "source": [
        "# inputs to the model\n",
        "inputs = [tokenizer(chunk, return_tensors=\"pt\") for chunk in chunks]"
      ],
      "execution_count": 55,
      "outputs": [
        {
          "output_type": "display_data",
          "data": {
            "text/plain": [
              "<IPython.core.display.HTML object>"
            ],
            "text/html": [
              "\n",
              "  <style>\n",
              "    pre {\n",
              "        white-space: pre-wrap;\n",
              "    }\n",
              "  </style>\n",
              "  "
            ]
          },
          "metadata": {}
        }
      ]
    },
    {
      "cell_type": "markdown",
      "metadata": {
        "id": "iKQKEdo8eakp"
      },
      "source": [
        "# Output"
      ]
    },
    {
      "cell_type": "code",
      "metadata": {
        "colab": {
          "base_uri": "https://localhost:8080/",
          "height": 815
        },
        "id": "REi6Ua8ejZ71",
        "outputId": "97561fbc-55a0-47a6-a5a1-f5685499d03c"
      },
      "source": [
        "for input in inputs:\n",
        "  output = model.generate(**input)\n",
        "  print(tokenizer.decode(*output, skip_special_tokens=True))"
      ],
      "execution_count": 56,
      "outputs": [
        {
          "output_type": "display_data",
          "data": {
            "text/plain": [
              "<IPython.core.display.HTML object>"
            ],
            "text/html": [
              "\n",
              "  <style>\n",
              "    pre {\n",
              "        white-space: pre-wrap;\n",
              "    }\n",
              "  </style>\n",
              "  "
            ]
          },
          "metadata": {}
        },
        {
          "output_type": "stream",
          "name": "stdout",
          "text": [
            " This article is an open acce ss article under the CC BY-NC-ND license (http://creativecommons.or g/licenses/by-nc-ND/4/4)Copyright © 2023, Research Institute of Petr oleum Exploration and Development Co., Ltd., CNPC. The Gulong shale oil in the Songliao Basin was investigated with resp ect to formation model, pore structure and accumulation.\n",
            " Qingshankou Formation shale oil is the first shale type that has been commercially explored in China and abroad. Gulong shale is characterized by high shale and clay contents, and small pore size. Pore structure is complex, mainly nano–micro matrix pores and bedding fractures, and micro-fractures. The theory of in-situ shale oil accumulation was proposed.\n",
            " The Songliao Basin covering 26×104 km2 is a typical fault-depression lacustrine basin. Gulong shale refers to deep-water organic-rich fi-aceuticalne-grained laminated rock unit with certain thermal maturity and diagenesis in th e terrestrial strata in the  Chinese strata. The results are not  only important for exploration, but also scientifically significant for the theoretical un-proving of terrestrial shal e oil accumulation in China.\n",
            " The oil produced has low density of 0.74– 0.82 g/cm3, high content of light hydrocarbons (C 6–C14) of  C14 of  C-6.8% (avg. 53.9%) Compared with marine an d continental shales world-wide, the Qingshankou Fm. shale has a high hydrogen index (HI) and a great oil gene ration potential. The primary oil precursors in the shale are phytoplankton, including pico- and nano-algae, dinoflag-ellata, acritarch, and chlorophyta (Fig. 2\n",
            " Clay minerals, especially smectite, have an inhibitory effect on hydrocarbon generation from organic matter. Clay minerals increase the activation energy for kerogen decomposition and slow the process of organic matter cracking. The bonding interaction is between clay minerals and organic mat-ter[28–29], which increase activation energy. From the mixture of kerogen + chlorite, light hydrocarbon in creases to 46%, heavy hy-glyglydrocarbon decreases to 28%, and gaseous hydrocarbons is 26%.\n",
            " The main mecha-nism is that the metal hydrated ions existing in clay mineral inter-layers can provide additional hydrogen ��sources for oil cracking and reduce the disproportiona-                tion degree of crude oil cracking reaction. Main accumulation space for shale oil is   controlled by hydrocarbon generation and                  dissolution. With the increase of thermal maturity, a large number of organic pores are formed in clay-rich shale.\n",
            " Dissolution pores are generally induced by organic acids formed during conversion of organic matter to oil and gas on unstable minerals in shale. At mature stage, mas-                sive organic acids promote dissolution of feldspar, car-                bonate, and other minerals, leaving a large number of  dissolution pores. The porosity shows a trend of decreasing first and then increasing with burial depth. At the B stage of middle diagenesis, the porosity increases further.\n",
            " The maturity of the shale sample from Well CH21 is low (0.78%), and the total po-rosity is 4.1%. The pore size distribution shows a roughly tri-peak pattern, with main peaks at 8–32 nm, 256–512 nm and greater than 5000 nm. The contribution of pores smaller than 50 nm to the total porosity is over 65%.\n",
            " The width of the bedding fractures from wells GY3HC, GY8HC and GY1 ranges from 22.7 μm to 41.98 μm. The fracture spacing ranges from 2.22 mm to 5.22mm, and the frac-gruve porosity ranges from 1.08% to 1.78%. The increase in bed-ding fracture width and densit y with increasing maturity  provides new accumulation space for Gulong shale oil.\n",
            " Both bedding fractures and matrix pores in the shale sample from Well ZH2911 contain oil, and the total oil consuming content is 2.5%, including 1.5% light hydrocarbon and 1.0% heavy hydrocarbon. Bedding fractures are significantly lighter than that in matrix pores, indicating that minor migration of shale oil occurs from matrix pores to bed-ding fractures. Gulong shale oil is a complex of numerous micro- and nano-scale oil accumulation units.\n",
            " The trend of oil enri chment toward small pores in Gulong shale is due to the fact that with increasing ma-turity, a large number of nano-scale organic pores appear in organo-clay complex and stor e oil and gas there. Oil in pores less than 10 nm has lower critical pressure and temperature, so it is condensate or gaseous at reservoir pressure and temper ature. Small pores have a larger specific surfac e area and adsorption, lead-forming to lower oil fluidity and evaporability.\n",
            " At mature stage, dissolution effect on pore formation is significant, while at high mature stage pores formed by hydrocarbon gene ration is dominant. Gulong shale oil is composed of a large amount of nano- and micro-scale oil accumulation units. All-sized pores contain oil, and the visible oil-bearing ipient is 5 nm, indicating that Gulong oil is generated and accumulated in-situ.\n",
            " The influence of minerals on the pyrolysis of kerogens can be attributed to the influence of mineral ma-naissancetrix in petroleum genera-tion and migration. In-situ ac-uvecumulation theory and exploration & development prac-tice of Gulong shale oil in Songliao Basin.\n",
            " Science China Earth Sciences, 2009, 52(10): 1559–1571. [26] CAI Jingong. Organo-clay complexes in muddy sediments. Beijing: Science Press, 2004: 53–143. [27] The effects of calcite  and montmorillonite. on oil crac king in confined pyrolysis experiments.\n"
          ]
        }
      ]
    }
  ]
}